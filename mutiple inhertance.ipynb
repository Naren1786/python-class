{
 "cells": [
  {
   "cell_type": "code",
   "execution_count": 93,
   "id": "42f58490",
   "metadata": {},
   "outputs": [],
   "source": [
    "class Parent():\n",
    "    def get_name(self,name):\n",
    "        self.name=name\n",
    "    def show_name(self):\n",
    "        return self.name"
   ]
  },
  {
   "cell_type": "code",
   "execution_count": 94,
   "id": "9280d559",
   "metadata": {},
   "outputs": [],
   "source": [
    "class Child(Parent):\n",
    "    def get_age(self,age):\n",
    "        self.age=age\n",
    "    def show_age(self):\n",
    "        return self.age"
   ]
  },
  {
   "cell_type": "code",
   "execution_count": 95,
   "id": "b01248b7",
   "metadata": {},
   "outputs": [],
   "source": [
    "class Grandchild(Child):\n",
    "    def get_gender(self,gender):\n",
    "        self.gender=gender\n",
    "    def show_gender(self):\n",
    "        return self.gender"
   ]
  },
  {
   "cell_type": "code",
   "execution_count": 96,
   "id": "de5b20c8",
   "metadata": {},
   "outputs": [],
   "source": [
    "gc=Grandchild()"
   ]
  },
  {
   "cell_type": "code",
   "execution_count": null,
   "id": "4be30c28",
   "metadata": {},
   "outputs": [],
   "source": [
    "gc.get_name(\"Avinash\")\n",
    "gc.get_name(\"Avinash\")"
   ]
  }
 ],
 "metadata": {
  "kernelspec": {
   "display_name": "Python 3",
   "language": "python",
   "name": "python3"
  },
  "language_info": {
   "codemirror_mode": {
    "name": "ipython",
    "version": 3
   },
   "file_extension": ".py",
   "mimetype": "text/x-python",
   "name": "python",
   "nbconvert_exporter": "python",
   "pygments_lexer": "ipython3",
   "version": "3.8.8"
  }
 },
 "nbformat": 4,
 "nbformat_minor": 5
}

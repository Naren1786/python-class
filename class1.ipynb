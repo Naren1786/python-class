{
 "cells": [
  {
   "cell_type": "code",
   "execution_count": 77,
   "id": "a745e104",
   "metadata": {},
   "outputs": [],
   "source": [
    "class Parent1():\n",
    "    def assign_str1(self,str1):\n",
    "        self.str1=str1\n",
    "    def show_str1(self):\n",
    "        return self.str1"
   ]
  },
  {
   "cell_type": "code",
   "execution_count": 78,
   "id": "0d8d1567",
   "metadata": {},
   "outputs": [],
   "source": [
    "class Parent2():\n",
    "    def assign_str2(self,str2):\n",
    "        self.str2=str2\n",
    "    def show_str2(self):\n",
    "        return self.str2"
   ]
  },
  {
   "cell_type": "code",
   "execution_count": 79,
   "id": "7f671759",
   "metadata": {},
   "outputs": [],
   "source": [
    "class Child():\n",
    "    def assign_str3(self,str3):\n",
    "        self.str3=str3\n",
    "    def show_str3(self):\n",
    "        return self.str3"
   ]
  },
  {
   "cell_type": "code",
   "execution_count": null,
   "id": "d8ebc769",
   "metadata": {},
   "outputs": [],
   "source": []
  }
 ],
 "metadata": {
  "kernelspec": {
   "display_name": "Python 3",
   "language": "python",
   "name": "python3"
  },
  "language_info": {
   "codemirror_mode": {
    "name": "ipython",
    "version": 3
   },
   "file_extension": ".py",
   "mimetype": "text/x-python",
   "name": "python",
   "nbconvert_exporter": "python",
   "pygments_lexer": "ipython3",
   "version": "3.8.8"
  }
 },
 "nbformat": 4,
 "nbformat_minor": 5
}

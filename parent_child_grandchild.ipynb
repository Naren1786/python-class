{
 "cells": [
  {
   "cell_type": "code",
   "execution_count": 93,
   "id": "034d83be",
   "metadata": {},
   "outputs": [],
   "source": [
    "#parent class child class granchild class inheriting properties \n",
    "class Parent():\n",
    "    def get_name(self,name):\n",
    "        self.name=name\n",
    "    def show_name(self):\n",
    "        return self.name"
   ]
  },
  {
   "cell_type": "code",
   "execution_count": 94,
   "id": "4c6eb996",
   "metadata": {},
   "outputs": [],
   "source": [
    "#class inheriting properties from parent\n",
    "class Child(Parent):\n",
    "    def get_age(self,age):\n",
    "        self.age=age\n",
    "    def show_age(self):\n",
    "        return self.age"
   ]
  },
  {
   "cell_type": "code",
   "execution_count": 98,
   "id": "0f33a958",
   "metadata": {},
   "outputs": [],
   "source": [
    "#class inheriting properties from child \n",
    "class Grandchild(Child):\n",
    "    def get_gender(self,gender):\n",
    "        self.gender=gender\n",
    "    def show_gender(self):\n",
    "        return self.gender"
   ]
  },
  {
   "cell_type": "code",
   "execution_count": 96,
   "id": "2fb20d12",
   "metadata": {},
   "outputs": [],
   "source": [
    "gc=Grandchild()"
   ]
  },
  {
   "cell_type": "code",
   "execution_count": 97,
   "id": "a31d64cd",
   "metadata": {},
   "outputs": [],
   "source": [
    "gc.get_name(\"Avinash\")\n",
    "gc.get_age(\"35\")\n",
    "gc.get_gender(\"Male\")"
   ]
  },
  {
   "cell_type": "code",
   "execution_count": 101,
   "id": "c127ef03",
   "metadata": {},
   "outputs": [
    {
     "data": {
      "text/plain": [
       "'Avinash'"
      ]
     },
     "execution_count": 101,
     "metadata": {},
     "output_type": "execute_result"
    }
   ],
   "source": [
    "gc.show_name()"
   ]
  },
  {
   "cell_type": "code",
   "execution_count": 102,
   "id": "3d9c02b1",
   "metadata": {},
   "outputs": [
    {
     "data": {
      "text/plain": [
       "'35'"
      ]
     },
     "execution_count": 102,
     "metadata": {},
     "output_type": "execute_result"
    }
   ],
   "source": [
    "gc.show_age()"
   ]
  },
  {
   "cell_type": "code",
   "execution_count": 103,
   "id": "eb98883c",
   "metadata": {},
   "outputs": [
    {
     "data": {
      "text/plain": [
       "'Male'"
      ]
     },
     "execution_count": 103,
     "metadata": {},
     "output_type": "execute_result"
    }
   ],
   "source": [
    "gc.show_gender()"
   ]
  },
  {
   "cell_type": "code",
   "execution_count": null,
   "id": "bab1e554",
   "metadata": {},
   "outputs": [],
   "source": []
  }
 ],
 "metadata": {
  "kernelspec": {
   "display_name": "Python 3",
   "language": "python",
   "name": "python3"
  },
  "language_info": {
   "codemirror_mode": {
    "name": "ipython",
    "version": 3
   },
   "file_extension": ".py",
   "mimetype": "text/x-python",
   "name": "python",
   "nbconvert_exporter": "python",
   "pygments_lexer": "ipython3",
   "version": "3.8.8"
  }
 },
 "nbformat": 4,
 "nbformat_minor": 5
}
